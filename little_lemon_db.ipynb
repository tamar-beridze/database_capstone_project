{
 "cells": [
  {
   "cell_type": "code",
   "execution_count": 1,
   "id": "06001117-5e90-48f2-bb60-9ca6d1e5934f",
   "metadata": {},
   "outputs": [
    {
     "name": "stdout",
     "output_type": "stream",
     "text": [
      "The connection pool is created with a name:  ll_pool_a\n",
      "The pool size is: 3\n"
     ]
    }
   ],
   "source": [
    "from mysql.connector.pooling import MySQLConnectionPool\n",
    "from mysql.connector import Error\n",
    "\n",
    "dbconfig = {\n",
    "    \"database\":\"little_lemon\",\n",
    "    \"user\" : \"root\",\n",
    "    \"password\" : \"123456789\"\n",
    "}\n",
    "\n",
    "try:\n",
    "    pool = MySQLConnectionPool(pool_name = \"ll_pool_a\",\n",
    "                           pool_size = 3, #default is 5\n",
    "                           **dbconfig)\n",
    "    print(\"The connection pool is created with a name: \",pool.pool_name)\n",
    "    print(\"The pool size is:\",pool.pool_size)\n",
    "\n",
    "except Error as er:\n",
    "    print(\"Error code:\", er.errno)\n",
    "    print(\"Error message:\", er.msg)"
   ]
  },
  {
   "cell_type": "code",
   "execution_count": 3,
   "id": "8318aed3-65bb-424c-bf85-282777d22261",
   "metadata": {},
   "outputs": [
    {
     "name": "stdout",
     "output_type": "stream",
     "text": [
      "Getting a connection from the pool.\n",
      "Creating a cursor object.\n",
      "Executing the SQL query.\n",
      "Fetching the query results.\n",
      "Retrieving the column names.\n",
      "Printing the results.\n",
      "\n",
      "Upcoming Bookings are:\n",
      "\n",
      "('BookingId', 'GuestFirstName', 'GuestLastName')\n",
      "(1, 'Anna', 'Iversen')\n",
      "(2, 'Joakim', 'Iversen')\n",
      "(3, 'Vanessa', 'McCarthy')\n",
      "(4, 'Marcos', 'Romero')\n",
      "(5, 'Hiroki', 'Yamane')\n",
      "(6, 'Diana', 'Pinto')\n",
      "\n",
      "Returning the connection back to the pool.\n",
      "The connection is placed back into the pool for the next user to connect.\n"
     ]
    }
   ],
   "source": [
    "from mysql.connector.pooling import MySQLConnectionPool\n",
    "\n",
    "dbconfig = {\n",
    "    \"database\":\"little_lemon\",\n",
    "    \"user\" : \"root\",\n",
    "    \"password\" : \"123456789\"\n",
    "}\n",
    "\n",
    "pool = MySQLConnectionPool(pool_name = \"ll_pool_a\",\n",
    "                           pool_size = 3, #default is 5\n",
    "                           **dbconfig)\n",
    "\n",
    "\n",
    "# Get the connection from the connection pool \"pool\"\n",
    "print(\"Getting a connection from the pool.\")\n",
    "connection1 = pool.get_connection()\n",
    "\n",
    "#print(\"A user with connection id {} is connected to the database.\".format(\n",
    "#    connection1.connection_id))\n",
    "\n",
    "#db_Info = connection1.get_server_info()\n",
    "#print(\"MySQL server version is:\", db_Info)\n",
    "\n",
    "# Create cursor object to communicate with entire MySQL database\n",
    "print(\"Creating a cursor object.\")\n",
    "cursor = connection1.cursor()\n",
    "\n",
    "# The SQL query is:\n",
    "sql_query = \"SELECT BookingId, GuestFirstName, GuestLastName FROM Bookings;\"\n",
    "\n",
    "# Execute query\n",
    "print(\"Executing the SQL query.\")\n",
    "cursor.execute(sql_query)\n",
    "\n",
    "# Fetch all results that satisfy the query \n",
    "print(\"Fetching the query results.\")\n",
    "results = cursor.fetchall()\n",
    "\n",
    "# Retrieve column names\n",
    "print(\"Retrieving the column names.\")\n",
    "cols = cursor.column_names\n",
    "\n",
    "# Print column names and records in \"results\" using for loop\n",
    "print(\"Printing the results.\\n\")\n",
    "print(\"\"\"Upcoming Bookings are:\\n\"\"\")\n",
    "print(cols)\n",
    "for result in results:\n",
    "    print(result)\n",
    "    \n",
    "# Put the connection back to the pool    \n",
    "print(\"\\nReturning the connection back to the pool.\")\n",
    "connection1.close()\n",
    "print(\"The connection is placed back into the pool for the next user to connect.\")"
   ]
  },
  {
   "cell_type": "code",
   "execution_count": 5,
   "id": "d4442ac7-723c-4303-a5dd-a20300de01d9",
   "metadata": {},
   "outputs": [
    {
     "name": "stdout",
     "output_type": "stream",
     "text": [
      "[Anna] is connected.\n",
      "\n",
      "[Marcos] is connected.\n",
      "\n",
      "[Diana] is connected.\n",
      "\n",
      "No more connections are available.\n",
      "Adding new connection in the pool.\n",
      "A new connection is added in the pool.\n",
      "\n",
      "[Joakim] is connected.\n",
      "\n",
      "No more connections are available.\n",
      "Adding new connection in the pool.\n",
      "A new connection is added in the pool.\n",
      "\n",
      "[Hiroki] is connected.\n",
      "\n"
     ]
    }
   ],
   "source": [
    "# Create a connection pool\n",
    "from mysql.connector.pooling import MySQLConnectionPool\n",
    "dbconfig = {\n",
    "    \"database\":\"little_lemon\",\n",
    "    \"user\" : \"root\",\n",
    "    \"password\" : \"123456789\"\n",
    "}\n",
    "\n",
    "pool = MySQLConnectionPool(pool_name = \"ll_pool_a\",\n",
    "                           pool_size = 3, #default is 5\n",
    "                           **dbconfig)\n",
    "\n",
    "# List of the guests who want to connect to the database\n",
    "guests = [\"Anna\", \"Marcos\", \"Diana\", \"Joakim\", \"Hiroki\"]\n",
    "\n",
    "# To add connection to the pool, the connection must be of MySQLConnection instance \n",
    "# Also possible to create via connect module and need the import below\n",
    "import mysql.connector as connector\n",
    "\n",
    "# Assign connection to each user\n",
    "for guest in guests:\n",
    "    try:\n",
    "        guest_connected = pool.get_connection()\n",
    "        print(\"[{}] is connected.\\n\".format(guest))\n",
    "    except:\n",
    "        print(\"No more connections are available.\")\n",
    "        print(\"Adding new connection in the pool.\")\n",
    "        \n",
    "        # Create a connection\n",
    "        connection=connector.connect(user=\"root\",password=\"123456789\")\n",
    "        # Add the connection into the pool\n",
    "        pool.add_connection(cnx=connection)\n",
    "        print(\"A new connection is added in the pool.\\n\")\n",
    "        \n",
    "        user_connected = pool.get_connection()\n",
    "        print(\"[{}] is connected.\\n\".format(guest))"
   ]
  },
  {
   "cell_type": "code",
   "execution_count": null,
   "id": "0e7ad02d-0ad1-4c76-8220-90d125c560f9",
   "metadata": {},
   "outputs": [],
   "source": []
  }
 ],
 "metadata": {
  "kernelspec": {
   "display_name": "Python 3 (ipykernel)",
   "language": "python",
   "name": "python3"
  },
  "language_info": {
   "codemirror_mode": {
    "name": "ipython",
    "version": 3
   },
   "file_extension": ".py",
   "mimetype": "text/x-python",
   "name": "python",
   "nbconvert_exporter": "python",
   "pygments_lexer": "ipython3",
   "version": "3.12.2"
  }
 },
 "nbformat": 4,
 "nbformat_minor": 5
}

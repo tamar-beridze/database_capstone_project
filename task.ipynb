{
 "cells": [
  {
   "cell_type": "code",
   "execution_count": 28,
   "id": "cf6c19b0-82a4-44c6-9b4f-4fb7b151a1a7",
   "metadata": {},
   "outputs": [
    {
     "name": "stdout",
     "output_type": "stream",
     "text": [
      "The connection pool is created with a name:  pool_a\n",
      "The pool size is: 3\n"
     ]
    }
   ],
   "source": [
    "import mysql.connector as connector\n",
    "from mysql.connector.pooling import MySQLConnectionPool\n",
    "connection=connector.connect(user='root',password='13588757924Leti',db='little_lemondb')\n",
    "\n",
    "try:\n",
    "    pool = MySQLConnectionPool(pool_name = \"pool_a\",\n",
    "                           pool_size = 3,\n",
    "                           user='root',\n",
    "                            password='13588757924Leti',\n",
    "                            db='little_lemondb')\n",
    "    print(\"The connection pool is created with a name: \",pool.pool_name)\n",
    "    print(\"The pool size is:\",pool.pool_size)\n",
    "\n",
    "except Error as er:\n",
    "    print(\"Error code:\", er.errno)\n",
    "    print(\"Error message:\", er.msg)"
   ]
  },
  {
   "cell_type": "code",
   "execution_count": 29,
   "id": "1e10a275-8f91-4fd3-9694-a8167e2fc61a",
   "metadata": {},
   "outputs": [
    {
     "name": "stdout",
     "output_type": "stream",
     "text": [
      "connected\n"
     ]
    }
   ],
   "source": [
    "connection1 = pool.get_connection()\n",
    "print(\"connected\")\n"
   ]
  },
  {
   "cell_type": "code",
   "execution_count": 30,
   "id": "d9ff95d9-4c0f-454c-a422-b6276923ef5c",
   "metadata": {},
   "outputs": [],
   "source": [
    "cursor=connection.cursor()"
   ]
  },
  {
   "cell_type": "code",
   "execution_count": 31,
   "id": "035b0352-6cde-485b-8c52-4f92326a718b",
   "metadata": {},
   "outputs": [],
   "source": [
    "cursor.execute(\"show tables\")"
   ]
  },
  {
   "cell_type": "code",
   "execution_count": 32,
   "id": "5e3aa047-f6e0-4392-969c-eb3bcd7dd824",
   "metadata": {},
   "outputs": [
    {
     "name": "stdout",
     "output_type": "stream",
     "text": [
      "('address',)\n",
      "('booking',)\n",
      "('city',)\n",
      "('country',)\n",
      "('course',)\n",
      "('cuisine',)\n",
      "('delivery',)\n",
      "('desert',)\n",
      "('drinks',)\n",
      "('employee',)\n",
      "('guest',)\n",
      "('littlelemon_data',)\n",
      "('menu',)\n",
      "('menuitem',)\n",
      "('order_view',)\n",
      "('orders',)\n",
      "('sides',)\n",
      "('starter',)\n",
      "('table_',)\n"
     ]
    }
   ],
   "source": [
    "for tables in cursor:\n",
    "    print (tables)"
   ]
  },
  {
   "cell_type": "code",
   "execution_count": 34,
   "id": "2c9dba93-7e36-421f-bdac-a0bb04f52a37",
   "metadata": {},
   "outputs": [
    {
     "name": "stdout",
     "output_type": "stream",
     "text": [
      "('OrderID', 'Orderdate', 'Guest_Name')\n",
      "connection is closed\n"
     ]
    }
   ],
   "source": [
    "orderdetail=\"\"\"select O.OrderID,O.Orderdate,G.Guest_Name from orders as o left join guest as g on O.GuestID=G.GuestID where cost>60 order by cost asc\"\"\"\n",
    "cursor.execute(orderdetail)\n",
    "results=cursor.fetchall()\n",
    "cols=cursor.column_names\n",
    "print(cols)\n",
    "for data in results:\n",
    "    print(data)\n",
    "\n",
    "connection.close()\n",
    "print('connection is closed')"
   ]
  },
  {
   "cell_type": "code",
   "execution_count": null,
   "id": "6136e890-7283-440e-b717-d59e9477bc2e",
   "metadata": {},
   "outputs": [],
   "source": []
  }
 ],
 "metadata": {
  "kernelspec": {
   "display_name": "Python 3 (ipykernel)",
   "language": "python",
   "name": "python3"
  },
  "language_info": {
   "codemirror_mode": {
    "name": "ipython",
    "version": 3
   },
   "file_extension": ".py",
   "mimetype": "text/x-python",
   "name": "python",
   "nbconvert_exporter": "python",
   "pygments_lexer": "ipython3",
   "version": "3.12.2"
  }
 },
 "nbformat": 4,
 "nbformat_minor": 5
}
